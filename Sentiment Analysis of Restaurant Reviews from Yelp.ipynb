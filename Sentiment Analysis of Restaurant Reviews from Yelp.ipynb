{
 "cells": [
  {
   "cell_type": "markdown",
   "id": "583226b2",
   "metadata": {},
   "source": [
    "### Text Classification\n",
    "\n",
    "The objective of this project was to build a predictive model to classify customer reviews as positive and negative sentiments using natural language processing. \n",
    "\n",
    "### Data Set\n",
    "\n",
    "The dataset used was from https://www.yelp.com/dataset. The business and review json files were used here.<br>\n",
    "Due to computing constraints, we only used 1 million rows of the review json file to build our model."
   ]
  },
  {
   "cell_type": "code",
   "execution_count": 1,
   "id": "f33fe65f",
   "metadata": {},
   "outputs": [],
   "source": [
    "import json\n",
    "import numpy as np\n",
    "import pandas as pd\n",
    "\n",
    "business = pd.read_json('./yelp_academic_dataset_business.json', lines = True)\n",
    "reviews = pd.read_json('./yelp_academic_dataset_review.json',lines=True, nrows=1000000)\n"
   ]
  },
  {
   "cell_type": "code",
   "execution_count": 2,
   "id": "73e658fa",
   "metadata": {},
   "outputs": [
    {
     "data": {
      "text/plain": [
       "['business_id',\n",
       " 'name',\n",
       " 'address',\n",
       " 'city',\n",
       " 'state',\n",
       " 'postal_code',\n",
       " 'latitude',\n",
       " 'longitude',\n",
       " 'stars',\n",
       " 'review_count',\n",
       " 'is_open',\n",
       " 'attributes',\n",
       " 'categories',\n",
       " 'hours']"
      ]
     },
     "execution_count": 2,
     "metadata": {},
     "output_type": "execute_result"
    }
   ],
   "source": [
    "#Checking column headers of the business file, noticed there is no review column (consumer reviews)\n",
    "list(business.columns)"
   ]
  },
  {
   "cell_type": "code",
   "execution_count": 3,
   "id": "a3fee483",
   "metadata": {},
   "outputs": [
    {
     "data": {
      "text/html": [
       "<div>\n",
       "<style scoped>\n",
       "    .dataframe tbody tr th:only-of-type {\n",
       "        vertical-align: middle;\n",
       "    }\n",
       "\n",
       "    .dataframe tbody tr th {\n",
       "        vertical-align: top;\n",
       "    }\n",
       "\n",
       "    .dataframe thead th {\n",
       "        text-align: right;\n",
       "    }\n",
       "</style>\n",
       "<table border=\"1\" class=\"dataframe\">\n",
       "  <thead>\n",
       "    <tr style=\"text-align: right;\">\n",
       "      <th></th>\n",
       "      <th>business_id</th>\n",
       "      <th>name</th>\n",
       "      <th>address</th>\n",
       "      <th>city</th>\n",
       "      <th>state</th>\n",
       "      <th>postal_code</th>\n",
       "      <th>latitude</th>\n",
       "      <th>longitude</th>\n",
       "      <th>stars</th>\n",
       "      <th>review_count</th>\n",
       "      <th>is_open</th>\n",
       "      <th>attributes</th>\n",
       "      <th>categories</th>\n",
       "      <th>hours</th>\n",
       "    </tr>\n",
       "  </thead>\n",
       "  <tbody>\n",
       "    <tr>\n",
       "      <th>0</th>\n",
       "      <td>6iYb2HFDywm3zjuRg0shjw</td>\n",
       "      <td>Oskar Blues Taproom</td>\n",
       "      <td>921 Pearl St</td>\n",
       "      <td>Boulder</td>\n",
       "      <td>CO</td>\n",
       "      <td>80302</td>\n",
       "      <td>40.017544</td>\n",
       "      <td>-105.283348</td>\n",
       "      <td>4.0</td>\n",
       "      <td>86</td>\n",
       "      <td>1</td>\n",
       "      <td>{'RestaurantsTableService': 'True', 'WiFi': 'u...</td>\n",
       "      <td>Gastropubs, Food, Beer Gardens, Restaurants, B...</td>\n",
       "      <td>{'Monday': '11:0-23:0', 'Tuesday': '11:0-23:0'...</td>\n",
       "    </tr>\n",
       "    <tr>\n",
       "      <th>1</th>\n",
       "      <td>tCbdrRPZA0oiIYSmHG3J0w</td>\n",
       "      <td>Flying Elephants at PDX</td>\n",
       "      <td>7000 NE Airport Way</td>\n",
       "      <td>Portland</td>\n",
       "      <td>OR</td>\n",
       "      <td>97218</td>\n",
       "      <td>45.588906</td>\n",
       "      <td>-122.593331</td>\n",
       "      <td>4.0</td>\n",
       "      <td>126</td>\n",
       "      <td>1</td>\n",
       "      <td>{'RestaurantsTakeOut': 'True', 'RestaurantsAtt...</td>\n",
       "      <td>Salad, Soup, Sandwiches, Delis, Restaurants, C...</td>\n",
       "      <td>{'Monday': '5:0-18:0', 'Tuesday': '5:0-17:0', ...</td>\n",
       "    </tr>\n",
       "  </tbody>\n",
       "</table>\n",
       "</div>"
      ],
      "text/plain": [
       "              business_id                     name              address  \\\n",
       "0  6iYb2HFDywm3zjuRg0shjw      Oskar Blues Taproom         921 Pearl St   \n",
       "1  tCbdrRPZA0oiIYSmHG3J0w  Flying Elephants at PDX  7000 NE Airport Way   \n",
       "\n",
       "       city state postal_code   latitude   longitude  stars  review_count  \\\n",
       "0   Boulder    CO       80302  40.017544 -105.283348    4.0            86   \n",
       "1  Portland    OR       97218  45.588906 -122.593331    4.0           126   \n",
       "\n",
       "   is_open                                         attributes  \\\n",
       "0        1  {'RestaurantsTableService': 'True', 'WiFi': 'u...   \n",
       "1        1  {'RestaurantsTakeOut': 'True', 'RestaurantsAtt...   \n",
       "\n",
       "                                          categories  \\\n",
       "0  Gastropubs, Food, Beer Gardens, Restaurants, B...   \n",
       "1  Salad, Soup, Sandwiches, Delis, Restaurants, C...   \n",
       "\n",
       "                                               hours  \n",
       "0  {'Monday': '11:0-23:0', 'Tuesday': '11:0-23:0'...  \n",
       "1  {'Monday': '5:0-18:0', 'Tuesday': '5:0-17:0', ...  "
      ]
     },
     "execution_count": 3,
     "metadata": {},
     "output_type": "execute_result"
    }
   ],
   "source": [
    "#Checking top 2 rows of business file, noticed Categories column\n",
    "business[:2]"
   ]
  },
  {
   "cell_type": "code",
   "execution_count": 4,
   "id": "079a76b2",
   "metadata": {},
   "outputs": [
    {
     "data": {
      "text/plain": [
       "0    Gastropubs, Food, Beer Gardens, Restaurants, B...\n",
       "1    Salad, Soup, Sandwiches, Delis, Restaurants, C...\n",
       "2    Antiques, Fashion, Used, Vintage & Consignment...\n",
       "3                           Beauty & Spas, Hair Salons\n",
       "4    Gyms, Active Life, Interval Training Gyms, Fit...\n",
       "Name: categories, dtype: object"
      ]
     },
     "execution_count": 4,
     "metadata": {},
     "output_type": "execute_result"
    }
   ],
   "source": [
    "business['categories'][:5]"
   ]
  },
  {
   "cell_type": "code",
   "execution_count": 5,
   "id": "d1503223",
   "metadata": {},
   "outputs": [],
   "source": [
    "#Create a dataframe showing Restaurant as one of the Categories\n",
    "restau_data=business[business['categories'].str.contains('Restaurant')==True]"
   ]
  },
  {
   "cell_type": "code",
   "execution_count": 6,
   "id": "a2d272d3",
   "metadata": {},
   "outputs": [
    {
     "data": {
      "text/plain": [
       "(50793, 14)"
      ]
     },
     "execution_count": 6,
     "metadata": {},
     "output_type": "execute_result"
    }
   ],
   "source": [
    "#There are 50,793 rows categorized under Restaurant\n",
    "restau_data.shape"
   ]
  },
  {
   "cell_type": "code",
   "execution_count": 7,
   "id": "0c6e2c86",
   "metadata": {},
   "outputs": [
    {
     "data": {
      "text/html": [
       "<div>\n",
       "<style scoped>\n",
       "    .dataframe tbody tr th:only-of-type {\n",
       "        vertical-align: middle;\n",
       "    }\n",
       "\n",
       "    .dataframe tbody tr th {\n",
       "        vertical-align: top;\n",
       "    }\n",
       "\n",
       "    .dataframe thead th {\n",
       "        text-align: right;\n",
       "    }\n",
       "</style>\n",
       "<table border=\"1\" class=\"dataframe\">\n",
       "  <thead>\n",
       "    <tr style=\"text-align: right;\">\n",
       "      <th></th>\n",
       "      <th>review_id</th>\n",
       "      <th>user_id</th>\n",
       "      <th>business_id</th>\n",
       "      <th>stars</th>\n",
       "      <th>useful</th>\n",
       "      <th>funny</th>\n",
       "      <th>cool</th>\n",
       "      <th>text</th>\n",
       "      <th>date</th>\n",
       "    </tr>\n",
       "  </thead>\n",
       "  <tbody>\n",
       "    <tr>\n",
       "      <th>0</th>\n",
       "      <td>lWC-xP3rd6obsecCYsGZRg</td>\n",
       "      <td>ak0TdVmGKo4pwqdJSTLwWw</td>\n",
       "      <td>buF9druCkbuXLX526sGELQ</td>\n",
       "      <td>4</td>\n",
       "      <td>3</td>\n",
       "      <td>1</td>\n",
       "      <td>1</td>\n",
       "      <td>Apparently Prides Osteria had a rough summer a...</td>\n",
       "      <td>2014-10-11 03:34:02</td>\n",
       "    </tr>\n",
       "    <tr>\n",
       "      <th>1</th>\n",
       "      <td>8bFej1QE5LXp4O05qjGqXA</td>\n",
       "      <td>YoVfDbnISlW0f7abNQACIg</td>\n",
       "      <td>RA4V8pr014UyUbDvI-LW2A</td>\n",
       "      <td>4</td>\n",
       "      <td>1</td>\n",
       "      <td>0</td>\n",
       "      <td>0</td>\n",
       "      <td>This store is pretty good. Not as great as Wal...</td>\n",
       "      <td>2015-07-03 20:38:25</td>\n",
       "    </tr>\n",
       "    <tr>\n",
       "      <th>2</th>\n",
       "      <td>NDhkzczKjLshODbqDoNLSg</td>\n",
       "      <td>eC5evKn1TWDyHCyQAwguUw</td>\n",
       "      <td>_sS2LBIGNT5NQb6PD1Vtjw</td>\n",
       "      <td>5</td>\n",
       "      <td>0</td>\n",
       "      <td>0</td>\n",
       "      <td>0</td>\n",
       "      <td>I called WVM on the recommendation of a couple...</td>\n",
       "      <td>2013-05-28 20:38:06</td>\n",
       "    </tr>\n",
       "    <tr>\n",
       "      <th>3</th>\n",
       "      <td>T5fAqjjFooT4V0OeZyuk1w</td>\n",
       "      <td>SFQ1jcnGguO0LYWnbbftAA</td>\n",
       "      <td>0AzLzHfOJgL7ROwhdww2ew</td>\n",
       "      <td>2</td>\n",
       "      <td>1</td>\n",
       "      <td>1</td>\n",
       "      <td>1</td>\n",
       "      <td>I've stayed at many Marriott and Renaissance M...</td>\n",
       "      <td>2010-01-08 02:29:15</td>\n",
       "    </tr>\n",
       "    <tr>\n",
       "      <th>4</th>\n",
       "      <td>sjm_uUcQVxab_EeLCqsYLg</td>\n",
       "      <td>0kA0PAJ8QFMeveQWHFqz2A</td>\n",
       "      <td>8zehGz9jnxPqXtOc7KaJxA</td>\n",
       "      <td>4</td>\n",
       "      <td>0</td>\n",
       "      <td>0</td>\n",
       "      <td>0</td>\n",
       "      <td>The food is always great here. The service fro...</td>\n",
       "      <td>2011-07-28 18:05:01</td>\n",
       "    </tr>\n",
       "  </tbody>\n",
       "</table>\n",
       "</div>"
      ],
      "text/plain": [
       "                review_id                 user_id             business_id  \\\n",
       "0  lWC-xP3rd6obsecCYsGZRg  ak0TdVmGKo4pwqdJSTLwWw  buF9druCkbuXLX526sGELQ   \n",
       "1  8bFej1QE5LXp4O05qjGqXA  YoVfDbnISlW0f7abNQACIg  RA4V8pr014UyUbDvI-LW2A   \n",
       "2  NDhkzczKjLshODbqDoNLSg  eC5evKn1TWDyHCyQAwguUw  _sS2LBIGNT5NQb6PD1Vtjw   \n",
       "3  T5fAqjjFooT4V0OeZyuk1w  SFQ1jcnGguO0LYWnbbftAA  0AzLzHfOJgL7ROwhdww2ew   \n",
       "4  sjm_uUcQVxab_EeLCqsYLg  0kA0PAJ8QFMeveQWHFqz2A  8zehGz9jnxPqXtOc7KaJxA   \n",
       "\n",
       "   stars  useful  funny  cool  \\\n",
       "0      4       3      1     1   \n",
       "1      4       1      0     0   \n",
       "2      5       0      0     0   \n",
       "3      2       1      1     1   \n",
       "4      4       0      0     0   \n",
       "\n",
       "                                                text                date  \n",
       "0  Apparently Prides Osteria had a rough summer a... 2014-10-11 03:34:02  \n",
       "1  This store is pretty good. Not as great as Wal... 2015-07-03 20:38:25  \n",
       "2  I called WVM on the recommendation of a couple... 2013-05-28 20:38:06  \n",
       "3  I've stayed at many Marriott and Renaissance M... 2010-01-08 02:29:15  \n",
       "4  The food is always great here. The service fro... 2011-07-28 18:05:01  "
      ]
     },
     "execution_count": 7,
     "metadata": {},
     "output_type": "execute_result"
    }
   ],
   "source": [
    "#Checking reviews column headers\n",
    "reviews.head()"
   ]
  },
  {
   "cell_type": "code",
   "execution_count": 8,
   "id": "6eea9024",
   "metadata": {},
   "outputs": [],
   "source": [
    "#Create a dataframe only keeping rows (from reviews data) with business ids present in the restau_data since the focus of this project is restaurant reviews\n",
    "\n",
    "reviews_rest = reviews[reviews.business_id.isin(restau_data['business_id']) == True]"
   ]
  },
  {
   "cell_type": "code",
   "execution_count": 9,
   "id": "d3f7e08b",
   "metadata": {},
   "outputs": [
    {
     "data": {
      "text/plain": [
       "(653719, 9)"
      ]
     },
     "execution_count": 9,
     "metadata": {},
     "output_type": "execute_result"
    }
   ],
   "source": [
    "reviews_rest.shape"
   ]
  },
  {
   "cell_type": "code",
   "execution_count": 10,
   "id": "c01e9eb6",
   "metadata": {},
   "outputs": [],
   "source": [
    "#Saving a clean data frame to a csv file (restaurant reviews only)\n",
    "reviews_rest.to_csv(\"restau_reviews.csv\",index=False)"
   ]
  },
  {
   "cell_type": "code",
   "execution_count": 11,
   "id": "140db5da",
   "metadata": {},
   "outputs": [],
   "source": [
    "df=pd.read_csv(\"restau_reviews.csv\")"
   ]
  },
  {
   "cell_type": "code",
   "execution_count": 12,
   "id": "4fecd038",
   "metadata": {},
   "outputs": [],
   "source": [
    "#Create the final data frame with the most important data\n",
    "rest_rev=df[['text','stars']]"
   ]
  },
  {
   "cell_type": "code",
   "execution_count": 13,
   "id": "af973b6f",
   "metadata": {},
   "outputs": [
    {
     "data": {
      "text/html": [
       "<div>\n",
       "<style scoped>\n",
       "    .dataframe tbody tr th:only-of-type {\n",
       "        vertical-align: middle;\n",
       "    }\n",
       "\n",
       "    .dataframe tbody tr th {\n",
       "        vertical-align: top;\n",
       "    }\n",
       "\n",
       "    .dataframe thead th {\n",
       "        text-align: right;\n",
       "    }\n",
       "</style>\n",
       "<table border=\"1\" class=\"dataframe\">\n",
       "  <thead>\n",
       "    <tr style=\"text-align: right;\">\n",
       "      <th></th>\n",
       "      <th>text</th>\n",
       "      <th>stars</th>\n",
       "    </tr>\n",
       "  </thead>\n",
       "  <tbody>\n",
       "    <tr>\n",
       "      <th>0</th>\n",
       "      <td>Apparently Prides Osteria had a rough summer a...</td>\n",
       "      <td>4</td>\n",
       "    </tr>\n",
       "    <tr>\n",
       "      <th>1</th>\n",
       "      <td>I've stayed at many Marriott and Renaissance M...</td>\n",
       "      <td>2</td>\n",
       "    </tr>\n",
       "    <tr>\n",
       "      <th>2</th>\n",
       "      <td>The food is always great here. The service fro...</td>\n",
       "      <td>4</td>\n",
       "    </tr>\n",
       "    <tr>\n",
       "      <th>3</th>\n",
       "      <td>This place used to be a cool, chill place. Now...</td>\n",
       "      <td>1</td>\n",
       "    </tr>\n",
       "    <tr>\n",
       "      <th>4</th>\n",
       "      <td>The setting is perfectly adequate, and the foo...</td>\n",
       "      <td>2</td>\n",
       "    </tr>\n",
       "  </tbody>\n",
       "</table>\n",
       "</div>"
      ],
      "text/plain": [
       "                                                text  stars\n",
       "0  Apparently Prides Osteria had a rough summer a...      4\n",
       "1  I've stayed at many Marriott and Renaissance M...      2\n",
       "2  The food is always great here. The service fro...      4\n",
       "3  This place used to be a cool, chill place. Now...      1\n",
       "4  The setting is perfectly adequate, and the foo...      2"
      ]
     },
     "execution_count": 13,
     "metadata": {},
     "output_type": "execute_result"
    }
   ],
   "source": [
    "rest_rev.head()"
   ]
  },
  {
   "cell_type": "code",
   "execution_count": 14,
   "id": "3a533674",
   "metadata": {},
   "outputs": [
    {
     "name": "stderr",
     "output_type": "stream",
     "text": [
      "<ipython-input-14-f294546184e4>:3: SettingWithCopyWarning: \n",
      "A value is trying to be set on a copy of a slice from a DataFrame.\n",
      "Try using .loc[row_indexer,col_indexer] = value instead\n",
      "\n",
      "See the caveats in the documentation: https://pandas.pydata.org/pandas-docs/stable/user_guide/indexing.html#returning-a-view-versus-a-copy\n",
      "  rest_rev['sentiment'] = rest_rev['stars'].apply(lambda star : 'positive' if star >=3 else 'negative')\n"
     ]
    }
   ],
   "source": [
    "#Adding another column named sentiment to categorize reviews as positive or negative\n",
    "\n",
    "rest_rev['sentiment'] = rest_rev['stars'].apply(lambda star : 'positive' if star >=3 else 'negative')"
   ]
  },
  {
   "cell_type": "code",
   "execution_count": 15,
   "id": "a213b3d8",
   "metadata": {},
   "outputs": [
    {
     "data": {
      "text/html": [
       "<div>\n",
       "<style scoped>\n",
       "    .dataframe tbody tr th:only-of-type {\n",
       "        vertical-align: middle;\n",
       "    }\n",
       "\n",
       "    .dataframe tbody tr th {\n",
       "        vertical-align: top;\n",
       "    }\n",
       "\n",
       "    .dataframe thead th {\n",
       "        text-align: right;\n",
       "    }\n",
       "</style>\n",
       "<table border=\"1\" class=\"dataframe\">\n",
       "  <thead>\n",
       "    <tr style=\"text-align: right;\">\n",
       "      <th></th>\n",
       "      <th>text</th>\n",
       "      <th>stars</th>\n",
       "      <th>sentiment</th>\n",
       "    </tr>\n",
       "  </thead>\n",
       "  <tbody>\n",
       "    <tr>\n",
       "      <th>5</th>\n",
       "      <td>Probably one of the better breakfast sandwiche...</td>\n",
       "      <td>5</td>\n",
       "      <td>positive</td>\n",
       "    </tr>\n",
       "    <tr>\n",
       "      <th>6</th>\n",
       "      <td>I work in the Pru and this is the most afforda...</td>\n",
       "      <td>5</td>\n",
       "      <td>positive</td>\n",
       "    </tr>\n",
       "    <tr>\n",
       "      <th>7</th>\n",
       "      <td>They NEVER seem to get our \\norder correct, se...</td>\n",
       "      <td>1</td>\n",
       "      <td>negative</td>\n",
       "    </tr>\n",
       "    <tr>\n",
       "      <th>8</th>\n",
       "      <td>I have been here twice and have had really goo...</td>\n",
       "      <td>4</td>\n",
       "      <td>positive</td>\n",
       "    </tr>\n",
       "    <tr>\n",
       "      <th>9</th>\n",
       "      <td>This is a five-star restaurant if ever I have ...</td>\n",
       "      <td>5</td>\n",
       "      <td>positive</td>\n",
       "    </tr>\n",
       "    <tr>\n",
       "      <th>10</th>\n",
       "      <td>Quickly stopped in for a UFC fight. I sat down...</td>\n",
       "      <td>4</td>\n",
       "      <td>positive</td>\n",
       "    </tr>\n",
       "  </tbody>\n",
       "</table>\n",
       "</div>"
      ],
      "text/plain": [
       "                                                 text  stars sentiment\n",
       "5   Probably one of the better breakfast sandwiche...      5  positive\n",
       "6   I work in the Pru and this is the most afforda...      5  positive\n",
       "7   They NEVER seem to get our \\norder correct, se...      1  negative\n",
       "8   I have been here twice and have had really goo...      4  positive\n",
       "9   This is a five-star restaurant if ever I have ...      5  positive\n",
       "10  Quickly stopped in for a UFC fight. I sat down...      4  positive"
      ]
     },
     "execution_count": 15,
     "metadata": {},
     "output_type": "execute_result"
    }
   ],
   "source": [
    "#To check if the new column was added, selected only rows 5 to 10 for viewing/checking\n",
    "\n",
    "rest_rev [5:11]"
   ]
  },
  {
   "cell_type": "code",
   "execution_count": 16,
   "id": "78dabd36",
   "metadata": {},
   "outputs": [
    {
     "data": {
      "text/html": [
       "<div>\n",
       "<style scoped>\n",
       "    .dataframe tbody tr th:only-of-type {\n",
       "        vertical-align: middle;\n",
       "    }\n",
       "\n",
       "    .dataframe tbody tr th {\n",
       "        vertical-align: top;\n",
       "    }\n",
       "\n",
       "    .dataframe thead th {\n",
       "        text-align: right;\n",
       "    }\n",
       "</style>\n",
       "<table border=\"1\" class=\"dataframe\">\n",
       "  <thead>\n",
       "    <tr style=\"text-align: right;\">\n",
       "      <th></th>\n",
       "      <th>text</th>\n",
       "      <th>stars</th>\n",
       "      <th>sentiment</th>\n",
       "    </tr>\n",
       "  </thead>\n",
       "  <tbody>\n",
       "    <tr>\n",
       "      <th>100</th>\n",
       "      <td>Wow!!! Absolutely the BEST donuts I've EVER ha...</td>\n",
       "      <td>5</td>\n",
       "      <td>positive</td>\n",
       "    </tr>\n",
       "    <tr>\n",
       "      <th>101</th>\n",
       "      <td>We ate at this place all three mornings we wer...</td>\n",
       "      <td>4</td>\n",
       "      <td>positive</td>\n",
       "    </tr>\n",
       "    <tr>\n",
       "      <th>102</th>\n",
       "      <td>On a lark (which is a bird according to wikipe...</td>\n",
       "      <td>5</td>\n",
       "      <td>positive</td>\n",
       "    </tr>\n",
       "    <tr>\n",
       "      <th>103</th>\n",
       "      <td>It was my very first visit  the service was aw...</td>\n",
       "      <td>4</td>\n",
       "      <td>positive</td>\n",
       "    </tr>\n",
       "    <tr>\n",
       "      <th>104</th>\n",
       "      <td>Great spot. Comfortable little joint smack dab...</td>\n",
       "      <td>5</td>\n",
       "      <td>positive</td>\n",
       "    </tr>\n",
       "    <tr>\n",
       "      <th>105</th>\n",
       "      <td>Best theater ever.  Great seats great service....</td>\n",
       "      <td>5</td>\n",
       "      <td>positive</td>\n",
       "    </tr>\n",
       "  </tbody>\n",
       "</table>\n",
       "</div>"
      ],
      "text/plain": [
       "                                                  text  stars sentiment\n",
       "100  Wow!!! Absolutely the BEST donuts I've EVER ha...      5  positive\n",
       "101  We ate at this place all three mornings we wer...      4  positive\n",
       "102  On a lark (which is a bird according to wikipe...      5  positive\n",
       "103  It was my very first visit  the service was aw...      4  positive\n",
       "104  Great spot. Comfortable little joint smack dab...      5  positive\n",
       "105  Best theater ever.  Great seats great service....      5  positive"
      ]
     },
     "execution_count": 16,
     "metadata": {},
     "output_type": "execute_result"
    }
   ],
   "source": [
    "#To check if the new column was added, selected only rows 5 to 10 for viewing/checking\n",
    "rest_rev [100:106]"
   ]
  },
  {
   "cell_type": "markdown",
   "id": "0b75f754",
   "metadata": {},
   "source": [
    "## Pre-processing"
   ]
  },
  {
   "cell_type": "code",
   "execution_count": 17,
   "id": "0cfe636c",
   "metadata": {},
   "outputs": [
    {
     "data": {
      "text/plain": [
       "text         0\n",
       "stars        0\n",
       "sentiment    0\n",
       "dtype: int64"
      ]
     },
     "execution_count": 17,
     "metadata": {},
     "output_type": "execute_result"
    }
   ],
   "source": [
    "#Check for null values\n",
    "rest_rev.isnull().sum()"
   ]
  },
  {
   "cell_type": "code",
   "execution_count": 18,
   "id": "7e5dab38",
   "metadata": {},
   "outputs": [],
   "source": [
    "# Check for whitespace strings\n",
    "blanks= []\n",
    "\n",
    "for i,t,s,sent in rest_rev.itertuples():\n",
    "    if sent.isspace ():\n",
    "        blanks.append(i) "
   ]
  },
  {
   "cell_type": "code",
   "execution_count": 19,
   "id": "800c4875",
   "metadata": {},
   "outputs": [
    {
     "data": {
      "text/plain": [
       "[]"
      ]
     },
     "execution_count": 19,
     "metadata": {},
     "output_type": "execute_result"
    }
   ],
   "source": [
    "blanks"
   ]
  },
  {
   "cell_type": "markdown",
   "id": "b650b9bb",
   "metadata": {},
   "source": [
    "No sentiment with whitespace"
   ]
  },
  {
   "cell_type": "code",
   "execution_count": 20,
   "id": "ee52c845",
   "metadata": {},
   "outputs": [
    {
     "data": {
      "text/plain": [
       "653719"
      ]
     },
     "execution_count": 20,
     "metadata": {},
     "output_type": "execute_result"
    }
   ],
   "source": [
    "len(rest_rev)"
   ]
  },
  {
   "cell_type": "code",
   "execution_count": 21,
   "id": "c9c5d128",
   "metadata": {},
   "outputs": [
    {
     "data": {
      "text/plain": [
       "positive    520285\n",
       "negative    133434\n",
       "Name: sentiment, dtype: int64"
      ]
     },
     "execution_count": 21,
     "metadata": {},
     "output_type": "execute_result"
    }
   ],
   "source": [
    "rest_rev['sentiment'].value_counts()"
   ]
  },
  {
   "cell_type": "code",
   "execution_count": 22,
   "id": "24b30c61",
   "metadata": {},
   "outputs": [],
   "source": [
    "### Split the data into train & test sets:\n",
    "\n",
    "from sklearn.model_selection import train_test_split\n",
    "\n",
    "X = rest_rev['text']\n",
    "y= rest_rev['sentiment']\n",
    "\n",
    "X_train, X_test, y_train, y_test = train_test_split(X, y, test_size=0.33, random_state=42)"
   ]
  },
  {
   "cell_type": "code",
   "execution_count": 23,
   "id": "b25e46fa",
   "metadata": {},
   "outputs": [
    {
     "data": {
      "text/plain": [
       "Pipeline(steps=[('tfidf', TfidfVectorizer()), ('clf', LinearSVC())])"
      ]
     },
     "execution_count": 23,
     "metadata": {},
     "output_type": "execute_result"
    }
   ],
   "source": [
    "#Build a pipeline to vectorize the data, then train and fit a model\n",
    "\n",
    "from sklearn.pipeline import Pipeline\n",
    "from sklearn.feature_extraction.text import TfidfVectorizer\n",
    "from sklearn.svm import LinearSVC\n",
    "\n",
    "rev_clf = Pipeline([('tfidf', TfidfVectorizer()), ('clf', LinearSVC())])\n",
    "\n",
    "# Feed the training data through the pipeline\n",
    "rev_clf.fit(X_train, y_train)"
   ]
  },
  {
   "cell_type": "code",
   "execution_count": 24,
   "id": "189ffd8d",
   "metadata": {},
   "outputs": [],
   "source": [
    "# Form a prediction set\n",
    "predictions =rev_clf.predict(X_test)"
   ]
  },
  {
   "cell_type": "code",
   "execution_count": 25,
   "id": "8d643106",
   "metadata": {},
   "outputs": [
    {
     "name": "stdout",
     "output_type": "stream",
     "text": [
      "[[ 35037   8825]\n",
      " [  6799 165067]]\n"
     ]
    }
   ],
   "source": [
    "# Report the confusion matrix\n",
    "from sklearn.metrics import confusion_matrix, classification_report,classification_report, accuracy_score\n",
    "\n",
    "print (confusion_matrix(y_test, predictions))"
   ]
  },
  {
   "cell_type": "code",
   "execution_count": 26,
   "id": "2a3ddc43",
   "metadata": {},
   "outputs": [
    {
     "name": "stdout",
     "output_type": "stream",
     "text": [
      "              precision    recall  f1-score   support\n",
      "\n",
      "    negative       0.84      0.80      0.82     43862\n",
      "    positive       0.95      0.96      0.95    171866\n",
      "\n",
      "    accuracy                           0.93    215728\n",
      "   macro avg       0.89      0.88      0.89    215728\n",
      "weighted avg       0.93      0.93      0.93    215728\n",
      "\n"
     ]
    }
   ],
   "source": [
    "# Print a classification report\n",
    "print (classification_report(y_test, predictions))"
   ]
  },
  {
   "cell_type": "code",
   "execution_count": 27,
   "id": "e6dfddb0",
   "metadata": {},
   "outputs": [
    {
     "name": "stdout",
     "output_type": "stream",
     "text": [
      "0.9275754654008752\n"
     ]
    }
   ],
   "source": [
    "# Print the overall accuracy\n",
    "print (accuracy_score(y_test,predictions))"
   ]
  },
  {
   "cell_type": "markdown",
   "id": "2f27b5b6",
   "metadata": {},
   "source": [
    "### Testing my classifier with random reviews copied from Yelp website"
   ]
  },
  {
   "cell_type": "code",
   "execution_count": 28,
   "id": "149267e5",
   "metadata": {},
   "outputs": [
    {
     "data": {
      "text/plain": [
       "array(['negative'], dtype=object)"
      ]
     },
     "execution_count": 28,
     "metadata": {},
     "output_type": "execute_result"
    }
   ],
   "source": [
    "rev_clf.predict([\"This was one of the worst experiences my friend and I have had since COVID began. Servers not masked even though Delta variant strong in West End. Tables were sticky and uncleaned, observed that other tables vacated were not cleaned. Staff totally disregarded those of us who were over 55 and/or had children but were very busy serving everyone else. Very disappointing since this was one of the first restaurants we visited since the beginning of COVID. Food OK. Service TERRIBLE. WON'T BE COMING BACK.  Note that we came on Sat. Aug. 21st @ 2pm with reservations to enjoy Happy Hour and staff seemed put out that we weren't ordering more. Our bill was $140ish not including tax. Hope they read this.\"])"
   ]
  },
  {
   "cell_type": "code",
   "execution_count": 29,
   "id": "133516c7",
   "metadata": {},
   "outputs": [
    {
     "data": {
      "text/plain": [
       "array(['negative'], dtype=object)"
      ]
     },
     "execution_count": 29,
     "metadata": {},
     "output_type": "execute_result"
    }
   ],
   "source": [
    "rev_clf.predict([\"The hand-pressed hamburger was very disappointing. I would rather have McDonald's any-day. Fries sucked too. The Molten Lava Cake was cool.\"])"
   ]
  },
  {
   "cell_type": "code",
   "execution_count": 30,
   "id": "8487b753",
   "metadata": {},
   "outputs": [
    {
     "data": {
      "text/plain": [
       "array(['negative'], dtype=object)"
      ]
     },
     "execution_count": 30,
     "metadata": {},
     "output_type": "execute_result"
    }
   ],
   "source": [
    "rev_clf.predict([\"I came with a few friends of my mine to celebrate my 16th birthday and right as we were seated I could tell our waitress was unhappy to be serving a group of minors. She spoke to us in a tone that you would use on 5 year olds. The food was amazing, but overall the service just ruined it for me. Probably won't be coming here again because of this.\"])"
   ]
  },
  {
   "cell_type": "code",
   "execution_count": 31,
   "id": "c9968730",
   "metadata": {},
   "outputs": [
    {
     "data": {
      "text/plain": [
       "array(['positive'], dtype=object)"
      ]
     },
     "execution_count": 31,
     "metadata": {},
     "output_type": "execute_result"
    }
   ],
   "source": [
    "rev_clf.predict([\"We spent our first night eating at Joey Burrard.  Didn't realize it was kinda a chain, but read that it have decent reviews however the service is left for improvement.  I do have to agree for the most part.  We got seated and took forever for someone to bring us water.  We saw so many staffs walking around.  But it just doesn't feel a lot of them did so with a purpose.  When we did flag someone down, she was quite pleasant and took our orders.  My wife got the half BBQ rack which she complained that the portion was tiny and cold.  We commented this to the waitress and they apologized on behalf of kitchen and offered for the same or something else.  It was good that the manager came by afterwards and asked us for details and was very gracious.  My wife then got curry shrimp over rice as replacement.  That was decent.  Nothing to boast about.  I had the mushroom cheddar burger.  I have to say it was quite delicious and cooked to perfection.  My only complaint is that it surely doesn't look like the same pic as other people had posted in the past.  Please take a look at my photo and be the judge.  My son got the MAc and cheese and gave it so so review.  He didn't even finish...so that's telling.  All in all, they have to definitely improve on.  I will not go back for sure.  Free wifi.\"])"
   ]
  },
  {
   "cell_type": "markdown",
   "id": "1d7e795f",
   "metadata": {},
   "source": [
    "Above results turned out to be correct :)\n"
   ]
  },
  {
   "cell_type": "code",
   "execution_count": null,
   "id": "5e98d24a",
   "metadata": {},
   "outputs": [],
   "source": []
  }
 ],
 "metadata": {
  "kernelspec": {
   "display_name": "Python 3",
   "language": "python",
   "name": "python3"
  },
  "language_info": {
   "codemirror_mode": {
    "name": "ipython",
    "version": 3
   },
   "file_extension": ".py",
   "mimetype": "text/x-python",
   "name": "python",
   "nbconvert_exporter": "python",
   "pygments_lexer": "ipython3",
   "version": "3.8.8"
  }
 },
 "nbformat": 4,
 "nbformat_minor": 5
}
